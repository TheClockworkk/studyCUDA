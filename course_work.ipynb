{
  "cells": [
    {
      "cell_type": "markdown",
      "metadata": {
        "id": "view-in-github",
        "colab_type": "text"
      },
      "source": [
        "<a href=\"https://colab.research.google.com/github/TheClockworkk/studyCUDA/blob/main/course_work.ipynb\" target=\"_parent\"><img src=\"https://colab.research.google.com/assets/colab-badge.svg\" alt=\"Open In Colab\"/></a>"
      ]
    },
    {
      "cell_type": "code",
      "execution_count": 1,
      "metadata": {
        "colab": {
          "base_uri": "https://localhost:8080/"
        },
        "id": "XdJdfE0Jv1aN",
        "outputId": "c2e9f96e-93f8-4bfb-e2aa-e2832c1c030a"
      },
      "outputs": [
        {
          "output_type": "stream",
          "name": "stdout",
          "text": [
            "Looking in indexes: https://pypi.org/simple, https://us-python.pkg.dev/colab-wheels/public/simple/\n",
            "Requirement already satisfied: mpi4py in /usr/local/lib/python3.8/dist-packages (3.1.4)\n"
          ]
        }
      ],
      "source": [
        "! pip install mpi4py\n"
      ]
    },
    {
      "cell_type": "code",
      "execution_count": 2,
      "metadata": {
        "colab": {
          "base_uri": "https://localhost:8080/"
        },
        "id": "BQoaT37jv6WF",
        "outputId": "ad7238a4-a4f3-4942-fb1c-fd9cfae1b976"
      },
      "outputs": [
        {
          "output_type": "stream",
          "name": "stdout",
          "text": [
            "Overwriting data_set.py\n"
          ]
        }
      ],
      "source": [
        "%%writefile data_set.py\n",
        "import torch\n",
        "from torchvision import datasets\n",
        "from torchvision.transforms import ToTensor\n",
        "import numpy as np\n",
        "train_data = datasets.MNIST(\n",
        "      root = 'data',\n",
        "      train = True,                         \n",
        "      transform = ToTensor(), \n",
        "      download = True,            \n",
        "  )\n",
        "\n",
        "test_data = datasets.MNIST(\n",
        "    root = 'data', \n",
        "    train = False, \n",
        "    transform = ToTensor()\n",
        ")"
      ]
    },
    {
      "cell_type": "code",
      "execution_count": 3,
      "metadata": {
        "colab": {
          "base_uri": "https://localhost:8080/"
        },
        "id": "oU_uNJEDv6dS",
        "outputId": "335dabd5-debf-42bb-c53e-46d454acb84c"
      },
      "outputs": [
        {
          "output_type": "stream",
          "name": "stdout",
          "text": [
            "Overwriting data_loader.py\n"
          ]
        }
      ],
      "source": [
        "%%writefile data_loader.py\n",
        "from torch.utils.data import DataLoader\n",
        "import torch\n",
        "from data_set import train_data,test_data\n",
        "def DataLoader(batchSize, numWorkers,shuffle = False,):\n",
        "  loaders = {\n",
        "  'train' : torch.utils.data.DataLoader(train_data, \n",
        "                                          batch_size=batchSize, \n",
        "                                          shuffle=shuffle, \n",
        "                                          num_workers=numWorkers),\n",
        "  \n",
        "  'validate'  : torch.utils.data.DataLoader(test_data, \n",
        "                                          batch_size=batchSize, \n",
        "                                          shuffle=True, \n",
        "                                          num_workers=numWorkers)\n",
        "  }\n",
        "  return loaders     "
      ]
    },
    {
      "cell_type": "code",
      "execution_count": 4,
      "metadata": {
        "colab": {
          "base_uri": "https://localhost:8080/"
        },
        "id": "rP10eRHmv6fQ",
        "outputId": "ec83437b-14a4-4671-e317-40510ed140c6"
      },
      "outputs": [
        {
          "output_type": "stream",
          "name": "stdout",
          "text": [
            "Overwriting model.py\n"
          ]
        }
      ],
      "source": [
        "%%writefile model.py\n",
        "import torch.nn as nn\n",
        "class CNN(nn.Module):\n",
        "    def __init__(self):\n",
        "        super(CNN, self).__init__()\n",
        "        self.conv1 = nn.Sequential(         \n",
        "            nn.Conv2d(\n",
        "                in_channels=1,              \n",
        "                out_channels=16,            \n",
        "                kernel_size=5,              \n",
        "                stride=1,                   \n",
        "                padding=2,                  \n",
        "            ),                              \n",
        "            nn.ReLU(),                      \n",
        "            nn.MaxPool2d(kernel_size=2),    \n",
        "        )\n",
        "        self.conv2 = nn.Sequential(         \n",
        "            nn.Conv2d(16, 32, 5, 1, 2),     \n",
        "            nn.ReLU(),                      \n",
        "            nn.MaxPool2d(2),                \n",
        "        )\n",
        "        # fully connected layer, output 10 classes\n",
        "        self.out = nn.Linear(32 * 7 * 7, 10)\n",
        "    def forward(self, x):\n",
        "        x = self.conv1(x)\n",
        "        x = self.conv2(x)\n",
        "        # flatten the output of conv2 to (batch_size, 32 * 7 * 7)\n",
        "        x = x.view(x.size(0), -1)       \n",
        "        output = self.out(x)\n",
        "        return output"
      ]
    },
    {
      "cell_type": "code",
      "execution_count": 5,
      "metadata": {
        "colab": {
          "base_uri": "https://localhost:8080/"
        },
        "id": "q98DY13Dv6i8",
        "outputId": "31858e7f-204b-43de-cbe4-01d8f7955767"
      },
      "outputs": [
        {
          "output_type": "stream",
          "name": "stdout",
          "text": [
            "Overwriting main.py\n"
          ]
        }
      ],
      "source": [
        "%%writefile main.py\n",
        "from mpi4py import MPI\n",
        "import torch.optim as optim\n",
        "import torch\n",
        "from data_loader import DataLoader\n",
        "from torch.autograd import Variable\n",
        "from model import CNN\n",
        "import torch.nn as nn\n",
        "from tqdm import tqdm\n",
        "def train_model(num_epochs,\n",
        "                criterion,\n",
        "                test_dataloader,\n",
        "                rank,\n",
        "                batch_size,\n",
        "                optimizer,\n",
        "                model,\n",
        "                train_dataloader,\n",
        "                val_dataloader):\n",
        "    device = torch.device(\"cuda:0\" if torch.cuda.is_available() else \"cpu\")\n",
        "    model.to(device)\n",
        "    model_best = 0\n",
        "    for epoch in range(num_epochs):\n",
        "      running_loss = 0\n",
        "      accuracy = 0\n",
        "\n",
        "      dataset_sizes_train = len(train_dataloader)\n",
        "      model.train()\n",
        "      if rank == 0:\n",
        "        i = 0\n",
        "        for images, labels in tqdm(train_dataloader):\n",
        "          comm.send((images, labels),dest = i%(p-1)+1)\n",
        "          i+=1\n",
        "      if rank != 0:\n",
        "        for i in range(len(train_dataloader)):    \n",
        "          if i % (p - 1) + 1 == rank:\n",
        "            (images,lables) = comm.recv(source=0)\n",
        "            images = images.to(device)\n",
        "            lables = lables.to(device)\n",
        "\n",
        "            output = model(images)\n",
        "            loss = criterion(output,lables)\n",
        "            \n",
        "            optimizer.zero_grad()\n",
        "            loss.backward()\n",
        "            optimizer.step()\n",
        "            \n",
        "            running_loss += loss.item() * images.size(0)\n",
        "        running_loss = running_loss / dataset_sizes_train\n",
        "        print(\"Epoch of train:\", epoch + 1,\"Loss: [\", running_loss, \"]\", \"rank: \", rank)\n",
        "            \n",
        "      MPI.Comm.Barrier(MPI.COMM_WORLD)\n",
        "      \n",
        "      accuracy = 0\n",
        "      validate_loss = 0.0\n",
        "      dataset_sizes_val = len(val_dataloader)\n",
        "      if rank != 0:\n",
        "        model.eval()\n",
        "      if rank == 0:\n",
        "        i = 0\n",
        "        for images, labels in tqdm(val_dataloader):\n",
        "          comm.send((images,labels), dest=i % (p - 1) + 1)\n",
        "          i+=1\n",
        "      if rank != 0:\n",
        "        for i in range(len(val_dataloader)):    \n",
        "          if i % (p - 1) + 1 == rank:\n",
        "            (images,lables) = comm.recv(source=0)\n",
        "            images = images.to(device)\n",
        "            lables = lables.to(device)\n",
        "            with torch.no_grad():\n",
        "              output = model(images)\n",
        "              loss = criterion(output,lables)\n",
        "              validate_loss += loss.item() * images.size(0)\n",
        "              pred_y = torch.max(output, 1)[1].data.squeeze()\n",
        "        validate_loss = validate_loss / dataset_sizes_val\n",
        "        print(\"Epoch of validation:\", epoch + 1,\"Loss: \",validate_loss, rank)\n",
        "      MPI.Comm.Barrier(MPI.COMM_WORLD) \n",
        "      if rank != 0: \n",
        "        if epoch == 0:\n",
        "          model_best = validate_loss\n",
        "        if validate_loss <= model_best:\n",
        "          model_best = validate_loss\n",
        "          torch.save(model.state_dict(), f\"./weights/model_{rank}.pth\")\n",
        "    return model\n",
        "\n",
        "if __name__ == \"__main__\":\n",
        "  comm = MPI.COMM_WORLD\n",
        "  my_rank = comm.Get_rank()\n",
        "  p = comm.Get_size()\n",
        "  num_epochs = 3\n",
        "  batch_size = 30\n",
        "  num_workers = 4\n",
        "  train_dataloader = DataLoader(batch_size,num_workers)['train']\n",
        "  validate_dataloader = DataLoader(batch_size,num_workers)['validate']\n",
        "  model = CNN()\n",
        "  optimizer = optim.Adam(model.parameters(), lr=0.001)\n",
        "  criterion = nn.CrossEntropyLoss()\n",
        "  model = train_model(num_epochs,criterion,validate_dataloader,my_rank,\n",
        "                           batch_size,optimizer,model,train_dataloader,validate_dataloader)\n",
        "  MPI.Finalize               "
      ]
    },
    {
      "cell_type": "code",
      "execution_count": 6,
      "metadata": {
        "colab": {
          "base_uri": "https://localhost:8080/"
        },
        "id": "yIFOs50rv6kz",
        "outputId": "8934630e-4db3-4089-ac8f-a1939ac261a8"
      },
      "outputs": [
        {
          "output_type": "stream",
          "name": "stdout",
          "text": [
            "/usr/local/lib/python3.8/dist-packages/torch/utils/data/dataloader.py:554: UserWarning: This DataLoader will create 4 worker processes in total. Our suggested max number of worker in current system is 2, which is smaller than what this DataLoader is going to create. Please be aware that excessive worker creation might get DataLoader running slow or even freeze, lower the worker number to avoid potential slowness/freeze if necessary.\n",
            "  warnings.warn(_create_warning_msg(\n",
            "100%|█████████▉| 1999/2000 [00:59<00:00, 42.32it/s]Epoch of train: 1 Loss: [ 2.695723382468568 ] rank:  1\n",
            "Epoch of train: 1 Loss: [ 2.9736293893761467 ] rank:  3\n",
            "100%|██████████| 2000/2000 [00:59<00:00, 33.54it/s]Epoch of train: 1 Loss: [ 2.953005129110534 ] rank:  2\n",
            "\n",
            " 97%|█████████▋| 325/334 [00:04<00:00, 71.18it/s]Epoch of validation: 1 Loss:  1.1111101428392582 2\n",
            "Epoch of validation: 1 Loss:  1.1687134824899543 1\n",
            "100%|██████████| 334/334 [00:04<00:00, 72.52it/s]Epoch of validation: 1 Loss:  1.1405572435444968 3\n",
            "\n",
            "100%|█████████▉| 1996/2000 [00:53<00:00, 35.61it/s]Epoch of train: 2 Loss: [ 0.8511253967796801 ] rank:  1\n",
            "100%|██████████| 2000/2000 [00:53<00:00, 37.43it/s]Epoch of train: 2 Loss: [ 0.9177721074514557 ] rank:  2\n",
            "Epoch of train: 2 Loss: [ 0.8883340719029366 ] rank:  3\n",
            "\n",
            " 99%|█████████▉| 330/334 [00:04<00:00, 81.50it/s]Epoch of validation: 2 Loss:  0.7068854369345807 1\n",
            "Epoch of validation: 2 Loss:  0.8908781340111516 2\n",
            "100%|██████████| 334/334 [00:04<00:00, 70.52it/s]Epoch of validation: 2 Loss:  0.624632979018201 3\n",
            "\n",
            "100%|█████████▉| 1999/2000 [00:54<00:00, 24.72it/s]Epoch of train: 3 Loss: [ 0.6007883555717126 ] rank:  3\n",
            "100%|██████████| 2000/2000 [00:54<00:00, 36.74it/s]Epoch of train: 3 Loss: [ 0.5913565638265572 ] rank:  1\n",
            "Epoch of train: 3 Loss: [ 0.6123428800216061 ] rank:  2\n",
            "\n",
            "100%|██████████| 334/334 [00:05<00:00, 84.55it/s]Epoch of validation: 3 Loss:  0.7138389630245273 1\n",
            "100%|██████████| 334/334 [00:05<00:00, 65.80it/s]Epoch of validation: 3 Loss:  0.5692942667327971 3\n",
            "Epoch of validation: 3 Loss:  0.7039697281911713 2\n",
            "/usr/local/lib/python3.8/dist-packages/torch/utils/data/dataloader.py:554: UserWarning: This DataLoader will create 4 worker processes in total. Our suggested max number of worker in current system is 2, which is smaller than what this DataLoader is going to create. Please be aware that excessive worker creation might get DataLoader running slow or even freeze, lower the worker number to avoid potential slowness/freeze if necessary.\n",
            "  warnings.warn(_create_warning_msg(\n",
            "/usr/local/lib/python3.8/dist-packages/torch/utils/data/dataloader.py:554: UserWarning: This DataLoader will create 4 worker processes in total. Our suggested max number of worker in current system is 2, which is smaller than what this DataLoader is going to create. Please be aware that excessive worker creation might get DataLoader running slow or even freeze, lower the worker number to avoid potential slowness/freeze if necessary.\n",
            "  warnings.warn(_create_warning_msg(\n",
            "\n",
            "/usr/local/lib/python3.8/dist-packages/torch/utils/data/dataloader.py:554: UserWarning: This DataLoader will create 4 worker processes in total. Our suggested max number of worker in current system is 2, which is smaller than what this DataLoader is going to create. Please be aware that excessive worker creation might get DataLoader running slow or even freeze, lower the worker number to avoid potential slowness/freeze if necessary.\n",
            "  warnings.warn(_create_warning_msg(\n"
          ]
        }
      ],
      "source": [
        "! mpirun --allow-run-as-root -np 4 --oversubscribe python main.py\n"
      ]
    },
    {
      "cell_type": "code",
      "execution_count": 7,
      "metadata": {
        "colab": {
          "base_uri": "https://localhost:8080/"
        },
        "id": "U46E3pjpv6mu",
        "outputId": "69231d2c-a425-4a9a-f9e4-895730d07832"
      },
      "outputs": [
        {
          "output_type": "stream",
          "name": "stdout",
          "text": [
            "Overwriting test.py\n"
          ]
        }
      ],
      "source": [
        "%%writefile test.py\n",
        "from mpi4py import MPI\n",
        "import torch.optim as optim\n",
        "import torch\n",
        "from data_loader import DataLoader\n",
        "from torch.autograd import Variable\n",
        "from model import CNN\n",
        "import torch.nn as nn\n",
        "from tqdm import tqdm\n",
        "def test(model, criterion, dataloader_test, dataset_sizes_test):\n",
        "    score = 0\n",
        "    runing_loss = 0.0\n",
        "    model.eval()\n",
        "    \n",
        "\n",
        "    with torch.no_grad():\n",
        "        if rank != 0:\n",
        "            print(\"Start proccess number \",rank)\n",
        "            for image, label in tqdm(dataloader_test): \n",
        "                output = model(image)\n",
        "                comm.send(output, dest=0, tag=0) \n",
        "                if rank == 1:\n",
        "                    comm.send(label, dest=0, tag=1)\n",
        "                _, preds = torch.max(output, 1)\n",
        "                loss = criterion(output, label)\n",
        "                runing_loss += loss.item() * image.size(0)\n",
        "                score += torch.sum(preds == label.data)\n",
        "            epoch_acc = score.double() / dataset_sizes_test\n",
        "            runing_loss = runing_loss / dataset_sizes_test\n",
        "            print(\"Test process \", rank, \": score: [\", epoch_acc.item(), \"], loss: [\", runing_loss, \"]\")\n",
        "        \n",
        "        MPI.Comm.Barrier(MPI.COMM_WORLD)\n",
        "        result = 0\n",
        "        if rank == 0:\n",
        "            print(\"Start proccess number \",rank)\n",
        "            for i in tqdm(range(len(dataloader_test))):\n",
        "                label = comm.recv(source=1, tag=1) \n",
        "                for procid in range(1, p):\n",
        "                    output = comm.recv(source=procid, tag=0)\n",
        "                    if procid == 1:\n",
        "                        result_all_models = output\n",
        "                    else:\n",
        "                        result_all_models += output\n",
        "                _, preds = torch.max(result_all_models, 1)\n",
        "                result += torch.sum(preds == label.data)\n",
        "            result = result.double() / dataset_sizes_test\n",
        "            print(\"Test process result\", rank, result.item())\n",
        "\n",
        "if __name__ == \"__main__\":\n",
        "\n",
        "  comm = MPI.COMM_WORLD\n",
        "  rank = comm.Get_rank()\n",
        "  p = comm.Get_size()\n",
        "  num_epochs = 3\n",
        "  batch_size = 30\n",
        "  num_workers = 4\n",
        "  train_dataloader = DataLoader(batch_size,num_workers)['train']\n",
        "  validate_dataloader = DataLoader(batch_size,num_workers)['validate']\n",
        "  model = CNN()\n",
        "  if(rank != 0):\n",
        "     model.load_state_dict(torch.load(f'/content/weights/model_{rank}.pth'))\n",
        "  optimizer = optim.Adam(model.parameters(), lr=0.001)\n",
        "  criterion = nn.CrossEntropyLoss()\n",
        "  model = test(model,criterion,validate_dataloader,len(validate_dataloader) * batch_size)\n",
        "  MPI.Finalize    "
      ]
    },
    {
      "cell_type": "code",
      "execution_count": 8,
      "metadata": {
        "colab": {
          "base_uri": "https://localhost:8080/"
        },
        "id": "k6GzG3gwv6pA",
        "outputId": "b83ddb5f-2890-4499-984b-2b46b52a0599"
      },
      "outputs": [
        {
          "output_type": "stream",
          "name": "stdout",
          "text": [
            "Start proccess number  2\n",
            "/usr/local/lib/python3.8/dist-packages/torch/utils/data/dataloader.py:554: UserWarning: This DataLoader will create 4 worker processes in total. Our suggested max number of worker in current system is 2, which is smaller than what this DataLoader is going to create. Please be aware that excessive worker creation might get DataLoader running slow or even freeze, lower the worker number to avoid potential slowness/freeze if necessary.\n",
            "  warnings.warn(_create_warning_msg(\n",
            "\r  0%|          | 0/334 [00:00<?, ?it/s]Start proccess number  3\n",
            "/usr/local/lib/python3.8/dist-packages/torch/utils/data/dataloader.py:554: UserWarning: This DataLoader will create 4 worker processes in total. Our suggested max number of worker in current system is 2, which is smaller than what this DataLoader is going to create. Please be aware that excessive worker creation might get DataLoader running slow or even freeze, lower the worker number to avoid potential slowness/freeze if necessary.\n",
            "  warnings.warn(_create_warning_msg(\n",
            "  2%|▏         | 8/334 [00:00<00:17, 18.73it/s]Start proccess number  1\n",
            "/usr/local/lib/python3.8/dist-packages/torch/utils/data/dataloader.py:554: UserWarning: This DataLoader will create 4 worker processes in total. Our suggested max number of worker in current system is 2, which is smaller than what this DataLoader is going to create. Please be aware that excessive worker creation might get DataLoader running slow or even freeze, lower the worker number to avoid potential slowness/freeze if necessary.\n",
            "  warnings.warn(_create_warning_msg(\n",
            "100%|██████████| 334/334 [00:18<00:00, 18.53it/s]Test process  2 : score: [ 0.9730538922155688 ], loss: [ 0.07739082068165842 ]\n",
            "100%|██████████| 334/334 [00:18<00:00, 18.37it/s]Test process  3 : score: [ 0.9790419161676647 ], loss: [ 0.06006168678276029 ]\n",
            "100%|██████████| 334/334 [00:18<00:00, 18.30it/s]Test process  1 : score: [ 0.9764471057884232 ], loss: [ 0.06830464402411668 ]\n",
            "Start proccess number  0\n",
            "\n",
            "\n",
            "/usr/local/lib/python3.8/dist-packages/torch/utils/data/dataloader.py:554: UserWarning: This DataLoader will create 4 worker processes in total. Our suggested max number of worker in current system is 2, which is smaller than what this DataLoader is going to create. Please be aware that excessive worker creation might get DataLoader running slow or even freeze, lower the worker number to avoid potential slowness/freeze if necessary.\n",
            "  warnings.warn(_create_warning_msg(\n",
            "\n",
            "100%|██████████| 334/334 [00:00<00:00, 649.80it/s]Test process result 0 0.3906187624750499\n",
            "\n"
          ]
        }
      ],
      "source": [
        "! mpirun --allow-run-as-root -np 4 --oversubscribe python test.py\n"
      ]
    },
    {
      "cell_type": "code",
      "source": [
        "! --oversubscribe"
      ],
      "metadata": {
        "id": "67Ycz2EkkejM",
        "outputId": "05d06cef-e84c-4a18-c9ac-a7494a348ba4",
        "colab": {
          "base_uri": "https://localhost:8080/"
        }
      },
      "execution_count": 9,
      "outputs": [
        {
          "output_type": "stream",
          "name": "stdout",
          "text": [
            "/bin/bash: --oversubscribe: command not found\n"
          ]
        }
      ]
    }
  ],
  "metadata": {
    "colab": {
      "provenance": [],
      "authorship_tag": "ABX9TyMj/BItUx/BgRbExgPrLrVQ",
      "include_colab_link": true
    },
    "kernelspec": {
      "display_name": "Python 3",
      "name": "python3"
    },
    "language_info": {
      "name": "python"
    }
  },
  "nbformat": 4,
  "nbformat_minor": 0
}